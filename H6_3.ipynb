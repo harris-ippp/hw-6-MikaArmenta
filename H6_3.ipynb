{
 "cells": [
  {
   "cell_type": "code",
   "execution_count": 110,
   "metadata": {
    "collapsed": true
   },
   "outputs": [],
   "source": [
    "import requests\n",
    "from bs4 import BeautifulSoup as bs\n",
    "\n",
    "import argparse\n",
    "import sys\n",
    "\n",
    "import json\n",
    "import pandas as pd\n",
    "import glob\n",
    "import matplotlib.pyplot as pls \n",
    "%matplotlib inline  "
   ]
  },
  {
   "cell_type": "code",
   "execution_count": 68,
   "metadata": {},
   "outputs": [],
   "source": [
    "#path = r'C:\\Users\\mikaa\\Desktop\\hw-6-MikaArmenta'\n",
    "allFiles= glob.glob(\"*.csv\")\n",
    "frame = pd.DataFrame()\n",
    "datalist=[]\n",
    "for f in allFiles:\n",
    "    header = pd.read_csv(f, nrows = 1).dropna(axis = 1)\n",
    "    d = header.iloc[0].to_dict()\n",
    "    df = pd.read_csv(f, index_col = 0, thousands = \",\", skiprows = [1])\n",
    "    df.rename(inplace = True, columns = d) # rename to democrat/republican\n",
    "    df.dropna(inplace = True, axis = 1)    # drop empty columns\n",
    "    df[\"Year\"] = f[-8:-4:1]\n",
    "    df2=df[0:5]\n",
    "    mask=['Democratic', 'Republican', 'Total Votes Cast', 'Year']\n",
    "    df3=df2[mask]\n",
    "    datalist.append(df3)\n",
    "frame=pd.concat(datalist)\n",
    "frame['Republican Share'] = frame['Republican']/frame['Total Votes Cast']\n"
   ]
  },
  {
   "cell_type": "code",
   "execution_count": 109,
   "metadata": {},
   "outputs": [
    {
     "name": "stdout",
     "output_type": "stream",
     "text": [
      "                         Democratic  Republican  Total Votes Cast  Year  \\\n",
      "County/City                                                               \n",
      "Albemarle County               1383         366              1801  1924   \n",
      "Albemarle County               1571         846              2417  1928   \n",
      "Albemarle County               1949         508              2491  1932   \n",
      "Albemarle County               1825         635              2467  1936   \n",
      "Albemarle County               1648         804              2458  1940   \n",
      "Albemarle County               1725         964              2701  1944   \n",
      "Albemarle County               1178         984              2443  1948   \n",
      "Albemarle County               1642        2523              4183  1952   \n",
      "Albemarle County               1412        2508              4386  1956   \n",
      "Albemarle County               2102        3135              5272  1960   \n",
      "Albemarle County               3062        3251              6315  1964   \n",
      "Albemarle County               2255        4512              8441  1968   \n",
      "Albemarle County               4303        8447             12951  1972   \n",
      "Albemarle County               7310        9084             16632  1976   \n",
      "Albemarle County               7293       10424             19582  1980   \n",
      "Albemarle County               7982       14455             22530  1984   \n",
      "Albemarle County              10363       15117             25753  1988   \n",
      "Albemarle County (CD 5)        5806        5118             12515  1992   \n",
      "Albemarle County              14089       15243             31228  1996   \n",
      "Albemarle County              16255       18291             36846  2000   \n",
      "Albemarle County              22088       21189             43726  2004   \n",
      "Albemarle County              29792       20576             50984  2008   \n",
      "Albemarle County              29757       23297             53988  2012   \n",
      "Albemarle County              33345       19259             56726  2016   \n",
      "\n",
      "                         Republican Share  \n",
      "County/City                                \n",
      "Albemarle County                 0.203220  \n",
      "Albemarle County                 0.350021  \n",
      "Albemarle County                 0.203934  \n",
      "Albemarle County                 0.257398  \n",
      "Albemarle County                 0.327095  \n",
      "Albemarle County                 0.356905  \n",
      "Albemarle County                 0.402783  \n",
      "Albemarle County                 0.603156  \n",
      "Albemarle County                 0.571819  \n",
      "Albemarle County                 0.594651  \n",
      "Albemarle County                 0.514806  \n",
      "Albemarle County                 0.534534  \n",
      "Albemarle County                 0.652228  \n",
      "Albemarle County                 0.546176  \n",
      "Albemarle County                 0.532326  \n",
      "Albemarle County                 0.641589  \n",
      "Albemarle County                 0.587000  \n",
      "Albemarle County (CD 5)          0.408949  \n",
      "Albemarle County                 0.488120  \n",
      "Albemarle County                 0.496418  \n",
      "Albemarle County                 0.484586  \n",
      "Albemarle County                 0.403578  \n",
      "Albemarle County                 0.431522  \n",
      "Albemarle County                 0.339509  \n"
     ]
    }
   ],
   "source": [
    "frame['Republican Share'] = frame['Republican']/frame['Total Votes Cast']\n",
    "\n",
    "Acc=frame[0:120:5]\n",
    "Alb=frame[1:120:5]\n",
    "Ale=frame[2:120:5]\n",
    "All=frame[3:120:5]\n",
    "Ame=frame[4:120:5]\n",
    "\n",
    "print(Alb)\n"
   ]
  },
  {
   "cell_type": "code",
   "execution_count": 106,
   "metadata": {},
   "outputs": [
    {
     "name": "stdout",
     "output_type": "stream",
     "text": [
      "                  Democratic  Republican  Total Votes Cast  Year\n",
      "County/City                                                     \n",
      "Accomack County         2087         307              2426  1924\n",
      "Albemarle County        1383         366              1801  1924\n",
      "Alexandria City         1136         556              1958  1924\n",
      "Alleghany County         589         856              1628  1924\n",
      "Amelia County            372         153               540  1924\n",
      "Accomack County         1826        1367              3193  1928\n",
      "Albemarle County        1571         846              2417  1928\n",
      "Alexandria City         1307        1617              2924  1928\n",
      "Alleghany County         622        1642              2264  1928\n",
      "Amelia County            498         277               775  1928\n",
      "Accomack County         2458         527              3007  1932\n",
      "Albemarle County        1949         508              2491  1932\n",
      "Alexandria City         2941        1199              4184  1932\n",
      "Alleghany County        1293        1095              2417  1932\n",
      "Amelia County            701         142               854  1932\n"
     ]
    }
   ],
   "source": [
    "print(frame.head(15))"
   ]
  },
  {
   "cell_type": "code",
   "execution_count": 72,
   "metadata": {
    "collapsed": true
   },
   "outputs": [],
   "source": [
    "Acc=[]\n",
    "Alb=[]\n",
    "Ale=[]\n",
    "All=[]\n",
    "Ame=[]\n"
   ]
  },
  {
   "cell_type": "code",
   "execution_count": 87,
   "metadata": {},
   "outputs": [
    {
     "data": {
      "text/plain": [
       "Index(['Accomack County', 'Albemarle County', 'Alexandria City',\n",
       "       'Alleghany County', 'Amelia County', 'Accomack County',\n",
       "       'Albemarle County', 'Alexandria City', 'Alleghany County',\n",
       "       'Amelia County',\n",
       "       ...\n",
       "       'Accomack County', 'Albemarle County', 'Alexandria City',\n",
       "       'Alleghany County', 'Amelia County', 'Accomack County',\n",
       "       'Albemarle County', 'Alexandria City', 'Alleghany County',\n",
       "       'Amelia County'],\n",
       "      dtype='object', name='County/City', length=120)"
      ]
     },
     "execution_count": 87,
     "metadata": {},
     "output_type": "execute_result"
    }
   ],
   "source": [
    "frame.index"
   ]
  },
  {
   "cell_type": "code",
   "execution_count": 90,
   "metadata": {},
   "outputs": [
    {
     "ename": "NameError",
     "evalue": "name 'index' is not defined",
     "output_type": "error",
     "traceback": [
      "\u001b[1;31m---------------------------------------------------------------------------\u001b[0m",
      "\u001b[1;31mNameError\u001b[0m                                 Traceback (most recent call last)",
      "\u001b[1;32m<ipython-input-90-104d157ecfd4>\u001b[0m in \u001b[0;36m<module>\u001b[1;34m()\u001b[0m\n\u001b[1;32m----> 1\u001b[1;33m \u001b[1;32mfor\u001b[0m \u001b[0mline\u001b[0m \u001b[1;32min\u001b[0m \u001b[0mframe\u001b[0m\u001b[1;33m[\u001b[0m\u001b[0mindex\u001b[0m\u001b[1;33m]\u001b[0m\u001b[1;33m:\u001b[0m\u001b[1;33m\u001b[0m\u001b[0m\n\u001b[0m\u001b[0;32m      2\u001b[0m     \u001b[0mprint\u001b[0m\u001b[1;33m(\u001b[0m\u001b[0mline\u001b[0m\u001b[1;33m)\u001b[0m\u001b[1;33m\u001b[0m\u001b[0m\n",
      "\u001b[1;31mNameError\u001b[0m: name 'index' is not defined"
     ]
    }
   ],
   "source": [
    "for line in frame[index]:\n",
    "    print(line)"
   ]
  },
  {
   "cell_type": "code",
   "execution_count": null,
   "metadata": {
    "collapsed": true
   },
   "outputs": [],
   "source": [
    "for line in frame:\n",
    "    if index=\"Accomack County\":\n",
    "        AccLine=line\n",
    "        Acc.append(AccLine)\n",
    "print(Acc)"
   ]
  },
  {
   "cell_type": "code",
   "execution_count": 84,
   "metadata": {},
   "outputs": [
    {
     "data": {
      "text/plain": [
       "Democratic          1383\n",
       "Republican           366\n",
       "Total Votes Cast    1801\n",
       "Year                1924\n",
       "Name: Albemarle County, dtype: object"
      ]
     },
     "execution_count": 84,
     "metadata": {},
     "output_type": "execute_result"
    }
   ],
   "source": [
    "frame.iloc[1]"
   ]
  },
  {
   "cell_type": "code",
   "execution_count": 71,
   "metadata": {},
   "outputs": [
    {
     "name": "stdout",
     "output_type": "stream",
     "text": [
      "                  Democratic  Republican  Total Votes Cast  Year\n",
      "County/City                                                     \n",
      "Accomack County         2087         307              2426  1924\n",
      "Albemarle County        1383         366              1801  1924\n",
      "Alexandria City         1136         556              1958  1924\n",
      "Alleghany County         589         856              1628  1924\n",
      "Amelia County            372         153               540  1924\n",
      "Accomack County         1826        1367              3193  1928\n",
      "Albemarle County        1571         846              2417  1928\n",
      "Alexandria City         1307        1617              2924  1928\n",
      "Alleghany County         622        1642              2264  1928\n",
      "Amelia County            498         277               775  1928\n",
      "Accomack County         2458         527              3007  1932\n",
      "Albemarle County        1949         508              2491  1932\n",
      "Alexandria City         2941        1199              4184  1932\n",
      "Alleghany County        1293        1095              2417  1932\n",
      "Amelia County            701         142               854  1932\n"
     ]
    }
   ],
   "source": [
    "print(frame.head(15))"
   ]
  },
  {
   "cell_type": "code",
   "execution_count": 101,
   "metadata": {},
   "outputs": [],
   "source": [
    "Acc=frame[0:120:5]\n",
    "Alb=frame[1:120:5]\n",
    "Ale=frame[2:120:5]\n",
    "All=frame[3:120:5]\n",
    "Ame=frame[4:120:5]"
   ]
  },
  {
   "cell_type": "code",
   "execution_count": 129,
   "metadata": {},
   "outputs": [
    {
     "data": {
      "image/png": "[encoded data removed]",
      "text/plain": [
       "<matplotlib.figure.Figure at 0x1674bded550>"
      ]
     },
     "metadata": {},
     "output_type": "display_data"
    }
   ],
   "source": [
    "AccPlot=Acc.plot(x='Year', y='Republican Share', kind='bar', title= r'Proportion of Republican Votes in US Presidential Elections' + \"\\n\" + 'Accomack County, 1924-2016')\n",
    "AccPlot.set_xlabel(\"Year\")\n",
    "AccPlot.set_ylabel(\"% of Total Votes that were Republican\")\n",
    "AccPlot.get_figure().savefig('accomack_county.pdf', format='pdf')\n",
    "\n",
    "AlbPlot=Alb.plot(x='Year', y='Republican Share', kind='bar', title= r'Proportion of Republican Votes in US Presidential Elections' + \"\\n\" + 'Albemarle County, 1924-2016')\n",
    "AlbPlot.get_figure().savefig('albemarle_county.pdf', format='pdf')\n",
    "AlbPlot.set_xlabel(\"Year\")\n",
    "AlbPlot.set_ylabel(\"% of Total Votes that were Republican\")\n",
    "\n",
    "AlePlot=Ale.plot(x='Year', y='Republican Share', kind='bar', title= r'Proportion of Republican Votes in US Presidential Elections' + \"\\n\" + 'Alexandria City, 1924-2016')\n",
    "AlePlot.get_figure().savefig('alexandria_city.pdf', format='pdf')\n",
    "AlePlot.set_xlabel(\"Year\")\n",
    "AlePlot.set_ylabel(\"% of Total Votes that were Republican\")\n",
    "\n",
    "AllPlot=All.plot(x='Year', y='Republican Share', kind='bar', title= r'Proportion of Republican Votes in US Presidential Elections' + \"\\n\" + 'Alleghany County, 1924-2016')\n",
    "AllPlot.get_figure().savefig('alleghany_county.pdf', format='pdf')\n",
    "AllPlot.set_xlabel(\"Year\")\n",
    "AllPlot.set_ylabel(\"% of Total Votes that were Republican\")\n",
    "\n",
    "AmePlot=Ame.plot(x='Year', y='Republican Share', kind='bar', title= r'Proportion of Republican Votes in US Presidential Elections' + \"\\n\" + 'Amelia County, 1924-2016')\n",
    "AmePlot.get_figure().savefig('amelia_county.pdf', format='pdf')\n",
    "AmePlot.set_xlabel(\"Year\")\n",
    "AmePlot.set_ylabel(\"% of Total Votes that were Republican\")\n"
   ]
  },
  {
   "cell_type": "code",
   "execution_count": 131,
   "metadata": {},
   "outputs": [
    {
     "data": {
      "text/plain": [
       "<matplotlib.text.Text at 0x1674c87bf98>"
      ]
     },
     "execution_count": 131,
     "metadata": {},
     "output_type": "execute_result"
    },
    {
     "data": {
      "image/png": "[encoded data removed]",
      "text/plain": [
       "<matplotlib.figure.Figure at 0x1674c44d668>"
      ]
     },
     "metadata": {},
     "output_type": "display_data"
    },
    {
     "data": {
      "image/png": "[encoded data removed]",
      "text/plain": [
       "<matplotlib.figure.Figure at 0x1674c57a240>"
      ]
     },
     "metadata": {},
     "output_type": "display_data"
    },
    {
     "data": {
      "image/png": "[encoded data removed]",
      "text/plain": [
       "<matplotlib.figure.Figure at 0x1674c32ecf8>"
      ]
     },
     "metadata": {},
     "output_type": "display_data"
    },
    {
     "data": {
      "image/png": "[encoded data removed]",
      "text/plain": [
       "<matplotlib.figure.Figure at 0x1674c565cc0>"
      ]
     },
     "metadata": {},
     "output_type": "display_data"
    }
   ],
   "source": [
    "AlbPlot=Alb.plot(x='Year', y='Republican Share', kind='bar', title= r'Proportion of Republican Votes in US Presidential Elections' + \"\\n\" + 'Albemarle County, 1924-2016')\n",
    "AlbPlot.get_figure().savefig('albemarle_county.pdf', format='pdf')\n",
    "AlbPlot.set_xlabel(\"Year\")\n",
    "AlbPlot.set_ylabel(\"% of Total Votes that were Republican\")\n",
    "\n",
    "AlePlot=Ale.plot(x='Year', y='Republican Share', kind='bar', title= r'Proportion of Republican Votes in US Presidential Elections' + \"\\n\" + 'Alexandria City, 1924-2016')\n",
    "AlePlot.get_figure().savefig('alexandria_city.pdf', format='pdf')\n",
    "AlePlot.set_xlabel(\"Year\")\n",
    "AlePlot.set_ylabel(\"% of Total Votes that were Republican\")\n",
    "\n",
    "AllPlot=All.plot(x='Year', y='Republican Share', kind='bar', title= r'Proportion of Republican Votes in US Presidential Elections' + \"\\n\" + 'Alleghany County, 1924-2016')\n",
    "AllPlot.get_figure().savefig('alleghany_county.pdf', format='pdf')\n",
    "AllPlot.set_xlabel(\"Year\")\n",
    "AllPlot.set_ylabel(\"% of Total Votes that were Republican\")\n",
    "\n",
    "AmePlot=Ame.plot(x='Year', y='Republican Share', kind='bar', title= r'Proportion of Republican Votes in US Presidential Elections' + \"\\n\" + 'Amelia County, 1924-2016')\n",
    "AmePlot.get_figure().savefig('amelia_county.pdf', format='pdf')\n",
    "AmePlot.set_xlabel(\"Year\")\n",
    "AmePlot.set_ylabel(\"% of Total Votes that were Republican\")\n"
   ]
  },
  {
   "cell_type": "code",
   "execution_count": null,
   "metadata": {
    "collapsed": true
   },
   "outputs": [],
   "source": [
    "Alb.plot(x='Year', y='Republican Share', kind='bar')\n",
    "plt.savefig('albemarle_county.pdf')\n",
    "\n",
    "\n",
    "Ale.plot(x='Year', y='Republican Share', kind='bar')\n",
    "plt.savefig('alexandria_city.pdf')\n",
    "\n",
    "\n",
    "All.plot(x='Year', y='Republican Share', kind='bar')\n",
    "plt.savefig('alleghany_county.pdf')\n"
   ]
  },
  {
   "cell_type": "code",
   "execution_count": 105,
   "metadata": {},
   "outputs": [
    {
     "ename": "KeyError",
     "evalue": "'Total Votes Cast'",
     "output_type": "error",
     "traceback": [
      "\u001b[1;31m---------------------------------------------------------------------------\u001b[0m",
      "\u001b[1;31mTypeError\u001b[0m                                 Traceback (most recent call last)",
      "\u001b[1;32mC:\\Users\\mikaa\\Anaconda3\\lib\\site-packages\\pandas\\core\\indexes\\base.py\u001b[0m in \u001b[0;36mget_value\u001b[1;34m(self, series, key)\u001b[0m\n\u001b[0;32m   2433\u001b[0m             \u001b[1;32mtry\u001b[0m\u001b[1;33m:\u001b[0m\u001b[1;33m\u001b[0m\u001b[0m\n\u001b[1;32m-> 2434\u001b[1;33m                 \u001b[1;32mreturn\u001b[0m \u001b[0mlibts\u001b[0m\u001b[1;33m.\u001b[0m\u001b[0mget_value_box\u001b[0m\u001b[1;33m(\u001b[0m\u001b[0ms\u001b[0m\u001b[1;33m,\u001b[0m \u001b[0mkey\u001b[0m\u001b[1;33m)\u001b[0m\u001b[1;33m\u001b[0m\u001b[0m\n\u001b[0m\u001b[0;32m   2435\u001b[0m             \u001b[1;32mexcept\u001b[0m \u001b[0mIndexError\u001b[0m\u001b[1;33m:\u001b[0m\u001b[1;33m\u001b[0m\u001b[0m\n",
      "\u001b[1;32mpandas\\_libs\\tslib.pyx\u001b[0m in \u001b[0;36mpandas._libs.tslib.get_value_box (pandas\\_libs\\tslib.c:18843)\u001b[1;34m()\u001b[0m\n",
      "\u001b[1;32mpandas\\_libs\\tslib.pyx\u001b[0m in \u001b[0;36mpandas._libs.tslib.get_value_box (pandas\\_libs\\tslib.c:18477)\u001b[1;34m()\u001b[0m\n",
      "\u001b[1;31mTypeError\u001b[0m: 'str' object cannot be interpreted as an integer",
      "\nDuring handling of the above exception, another exception occurred:\n",
      "\u001b[1;31mKeyError\u001b[0m                                  Traceback (most recent call last)",
      "\u001b[1;32m<ipython-input-105-84521f47d040>\u001b[0m in \u001b[0;36m<module>\u001b[1;34m()\u001b[0m\n\u001b[1;32m----> 1\u001b[1;33m \u001b[0mprint\u001b[0m\u001b[1;33m(\u001b[0m\u001b[0mAlb\u001b[0m\u001b[1;33m[\u001b[0m\u001b[1;34m'Republican'\u001b[0m\u001b[1;33m]\u001b[0m\u001b[1;33m[\u001b[0m\u001b[1;34m'Total Votes Cast'\u001b[0m\u001b[1;33m]\u001b[0m\u001b[1;33m)\u001b[0m\u001b[1;33m\u001b[0m\u001b[0m\n\u001b[0m",
      "\u001b[1;32mC:\\Users\\mikaa\\Anaconda3\\lib\\site-packages\\pandas\\core\\series.py\u001b[0m in \u001b[0;36m__getitem__\u001b[1;34m(self, key)\u001b[0m\n\u001b[0;32m    599\u001b[0m         \u001b[0mkey\u001b[0m \u001b[1;33m=\u001b[0m \u001b[0mcom\u001b[0m\u001b[1;33m.\u001b[0m\u001b[0m_apply_if_callable\u001b[0m\u001b[1;33m(\u001b[0m\u001b[0mkey\u001b[0m\u001b[1;33m,\u001b[0m \u001b[0mself\u001b[0m\u001b[1;33m)\u001b[0m\u001b[1;33m\u001b[0m\u001b[0m\n\u001b[0;32m    600\u001b[0m         \u001b[1;32mtry\u001b[0m\u001b[1;33m:\u001b[0m\u001b[1;33m\u001b[0m\u001b[0m\n\u001b[1;32m--> 601\u001b[1;33m             \u001b[0mresult\u001b[0m \u001b[1;33m=\u001b[0m \u001b[0mself\u001b[0m\u001b[1;33m.\u001b[0m\u001b[0mindex\u001b[0m\u001b[1;33m.\u001b[0m\u001b[0mget_value\u001b[0m\u001b[1;33m(\u001b[0m\u001b[0mself\u001b[0m\u001b[1;33m,\u001b[0m \u001b[0mkey\u001b[0m\u001b[1;33m)\u001b[0m\u001b[1;33m\u001b[0m\u001b[0m\n\u001b[0m\u001b[0;32m    602\u001b[0m \u001b[1;33m\u001b[0m\u001b[0m\n\u001b[0;32m    603\u001b[0m             \u001b[1;32mif\u001b[0m \u001b[1;32mnot\u001b[0m \u001b[0mis_scalar\u001b[0m\u001b[1;33m(\u001b[0m\u001b[0mresult\u001b[0m\u001b[1;33m)\u001b[0m\u001b[1;33m:\u001b[0m\u001b[1;33m\u001b[0m\u001b[0m\n",
      "\u001b[1;32mC:\\Users\\mikaa\\Anaconda3\\lib\\site-packages\\pandas\\core\\indexes\\base.py\u001b[0m in \u001b[0;36mget_value\u001b[1;34m(self, series, key)\u001b[0m\n\u001b[0;32m   2440\u001b[0m                     \u001b[1;32mraise\u001b[0m \u001b[0mInvalidIndexError\u001b[0m\u001b[1;33m(\u001b[0m\u001b[0mkey\u001b[0m\u001b[1;33m)\u001b[0m\u001b[1;33m\u001b[0m\u001b[0m\n\u001b[0;32m   2441\u001b[0m                 \u001b[1;32melse\u001b[0m\u001b[1;33m:\u001b[0m\u001b[1;33m\u001b[0m\u001b[0m\n\u001b[1;32m-> 2442\u001b[1;33m                     \u001b[1;32mraise\u001b[0m \u001b[0me1\u001b[0m\u001b[1;33m\u001b[0m\u001b[0m\n\u001b[0m\u001b[0;32m   2443\u001b[0m             \u001b[1;32mexcept\u001b[0m \u001b[0mException\u001b[0m\u001b[1;33m:\u001b[0m  \u001b[1;31m# pragma: no cover\u001b[0m\u001b[1;33m\u001b[0m\u001b[0m\n\u001b[0;32m   2444\u001b[0m                 \u001b[1;32mraise\u001b[0m \u001b[0me1\u001b[0m\u001b[1;33m\u001b[0m\u001b[0m\n",
      "\u001b[1;32mC:\\Users\\mikaa\\Anaconda3\\lib\\site-packages\\pandas\\core\\indexes\\base.py\u001b[0m in \u001b[0;36mget_value\u001b[1;34m(self, series, key)\u001b[0m\n\u001b[0;32m   2426\u001b[0m         \u001b[1;32mtry\u001b[0m\u001b[1;33m:\u001b[0m\u001b[1;33m\u001b[0m\u001b[0m\n\u001b[0;32m   2427\u001b[0m             return self._engine.get_value(s, k,\n\u001b[1;32m-> 2428\u001b[1;33m                                           tz=getattr(series.dtype, 'tz', None))\n\u001b[0m\u001b[0;32m   2429\u001b[0m         \u001b[1;32mexcept\u001b[0m \u001b[0mKeyError\u001b[0m \u001b[1;32mas\u001b[0m \u001b[0me1\u001b[0m\u001b[1;33m:\u001b[0m\u001b[1;33m\u001b[0m\u001b[0m\n\u001b[0;32m   2430\u001b[0m             \u001b[1;32mif\u001b[0m \u001b[0mlen\u001b[0m\u001b[1;33m(\u001b[0m\u001b[0mself\u001b[0m\u001b[1;33m)\u001b[0m \u001b[1;33m>\u001b[0m \u001b[1;36m0\u001b[0m \u001b[1;32mand\u001b[0m \u001b[0mself\u001b[0m\u001b[1;33m.\u001b[0m\u001b[0minferred_type\u001b[0m \u001b[1;32min\u001b[0m \u001b[1;33m[\u001b[0m\u001b[1;34m'integer'\u001b[0m\u001b[1;33m,\u001b[0m \u001b[1;34m'boolean'\u001b[0m\u001b[1;33m]\u001b[0m\u001b[1;33m:\u001b[0m\u001b[1;33m\u001b[0m\u001b[0m\n",
      "\u001b[1;32mpandas\\_libs\\index.pyx\u001b[0m in \u001b[0;36mpandas._libs.index.IndexEngine.get_value (pandas\\_libs\\index.c:4363)\u001b[1;34m()\u001b[0m\n",
      "\u001b[1;32mpandas\\_libs\\index.pyx\u001b[0m in \u001b[0;36mpandas._libs.index.IndexEngine.get_value (pandas\\_libs\\index.c:4046)\u001b[1;34m()\u001b[0m\n",
      "\u001b[1;32mpandas\\_libs\\index.pyx\u001b[0m in \u001b[0;36mpandas._libs.index.IndexEngine.get_loc (pandas\\_libs\\index.c:5022)\u001b[1;34m()\u001b[0m\n",
      "\u001b[1;32mpandas\\_libs\\index.pyx\u001b[0m in \u001b[0;36mpandas._libs.index.IndexEngine._get_loc_duplicates (pandas\\_libs\\index.c:5469)\u001b[1;34m()\u001b[0m\n",
      "\u001b[1;32mpandas\\_libs\\index.pyx\u001b[0m in \u001b[0;36mpandas._libs.index.IndexEngine._maybe_get_bool_indexer (pandas\\_libs\\index.c:5862)\u001b[1;34m()\u001b[0m\n",
      "\u001b[1;31mKeyError\u001b[0m: 'Total Votes Cast'"
     ]
    }
   ],
   "source": [
    "print(Alb['Republican']['Total Votes Cast'])"
   ]
  },
  {
   "cell_type": "code",
   "execution_count": 93,
   "metadata": {},
   "outputs": [
    {
     "name": "stdout",
     "output_type": "stream",
     "text": [
      "120\n"
     ]
    }
   ],
   "source": [
    "print(len(frame))"
   ]
  },
  {
   "cell_type": "code",
   "execution_count": 61,
   "metadata": {},
   "outputs": [
    {
     "data": {
      "text/html": [
       "<div>\n",
       "<style>\n",
       "    .dataframe thead tr:only-child th {\n",
       "        text-align: right;\n",
       "    }\n",
       "\n",
       "    .dataframe thead th {\n",
       "        text-align: left;\n",
       "    }\n",
       "\n",
       "    .dataframe tbody tr th {\n",
       "        vertical-align: top;\n",
       "    }\n",
       "</style>\n",
       "<table border=\"1\" class=\"dataframe\">\n",
       "  <thead>\n",
       "    <tr style=\"text-align: right;\">\n",
       "      <th></th>\n",
       "      <th>Democratic</th>\n",
       "      <th>Republican</th>\n",
       "      <th>Libertarian</th>\n",
       "      <th>Independent</th>\n",
       "      <th>Green</th>\n",
       "      <th>All Others</th>\n",
       "      <th>Total Votes Cast</th>\n",
       "      <th>Year</th>\n",
       "    </tr>\n",
       "    <tr>\n",
       "      <th>County/City</th>\n",
       "      <th></th>\n",
       "      <th></th>\n",
       "      <th></th>\n",
       "      <th></th>\n",
       "      <th></th>\n",
       "      <th></th>\n",
       "      <th></th>\n",
       "      <th></th>\n",
       "    </tr>\n",
       "  </thead>\n",
       "  <tbody>\n",
       "    <tr>\n",
       "      <th>Accomack County</th>\n",
       "      <td>6740</td>\n",
       "      <td>8583</td>\n",
       "      <td>264</td>\n",
       "      <td>112</td>\n",
       "      <td>66</td>\n",
       "      <td>53</td>\n",
       "      <td>15818</td>\n",
       "      <td>2016</td>\n",
       "    </tr>\n",
       "    <tr>\n",
       "      <th>Albemarle County</th>\n",
       "      <td>33345</td>\n",
       "      <td>19259</td>\n",
       "      <td>2105</td>\n",
       "      <td>1059</td>\n",
       "      <td>450</td>\n",
       "      <td>508</td>\n",
       "      <td>56726</td>\n",
       "      <td>2016</td>\n",
       "    </tr>\n",
       "    <tr>\n",
       "      <th>Alexandria City</th>\n",
       "      <td>57242</td>\n",
       "      <td>13285</td>\n",
       "      <td>2020</td>\n",
       "      <td>1398</td>\n",
       "      <td>592</td>\n",
       "      <td>1233</td>\n",
       "      <td>75770</td>\n",
       "      <td>2016</td>\n",
       "    </tr>\n",
       "    <tr>\n",
       "      <th>Alleghany County</th>\n",
       "      <td>2166</td>\n",
       "      <td>4874</td>\n",
       "      <td>164</td>\n",
       "      <td>69</td>\n",
       "      <td>35</td>\n",
       "      <td>17</td>\n",
       "      <td>7325</td>\n",
       "      <td>2016</td>\n",
       "    </tr>\n",
       "    <tr>\n",
       "      <th>Amelia County</th>\n",
       "      <td>2128</td>\n",
       "      <td>4708</td>\n",
       "      <td>129</td>\n",
       "      <td>41</td>\n",
       "      <td>11</td>\n",
       "      <td>23</td>\n",
       "      <td>7040</td>\n",
       "      <td>2016</td>\n",
       "    </tr>\n",
       "  </tbody>\n",
       "</table>\n",
       "</div>"
      ],
      "text/plain": [
       "                  Democratic  Republican  Libertarian  Independent  Green  \\\n",
       "County/City                                                                 \n",
       "Accomack County         6740        8583          264          112     66   \n",
       "Albemarle County       33345       19259         2105         1059    450   \n",
       "Alexandria City        57242       13285         2020         1398    592   \n",
       "Alleghany County        2166        4874          164           69     35   \n",
       "Amelia County           2128        4708          129           41     11   \n",
       "\n",
       "                  All Others  Total Votes Cast  Year  \n",
       "County/City                                           \n",
       "Accomack County           53             15818  2016  \n",
       "Albemarle County         508             56726  2016  \n",
       "Alexandria City         1233             75770  2016  \n",
       "Alleghany County          17              7325  2016  \n",
       "Amelia County             23              7040  2016  "
      ]
     },
     "execution_count": 61,
     "metadata": {},
     "output_type": "execute_result"
    }
   ],
   "source": [
    "df.iloc[0:5]"
   ]
  },
  {
   "cell_type": "code",
   "execution_count": 56,
   "metadata": {},
   "outputs": [
    {
     "name": "stdout",
     "output_type": "stream",
     "text": [
      "                      Democratic  Republican  Total Votes Cast  Year\n",
      "County/City                                                         \n",
      "Accomack County             2087         307              2426  1924\n",
      "Albemarle County            1383         366              1801  1924\n",
      "Alexandria City             1136         556              1958  1924\n",
      "Alleghany County             589         856              1628  1924\n",
      "Amelia County                372         153               540  1924\n",
      "Amherst County              1092         129              1326  1924\n",
      "Appomattox County            952         101              1071  1924\n",
      "Arlington County            1209        1307              2921  1924\n",
      "Augusta County              1920        1265              3263  1924\n",
      "Bath County                  404         407               835  1924\n",
      "Bedford County              1811         432              2274  1924\n",
      "Bland County                 604         609              1217  1924\n",
      "Botetourt County            1427        1264              2752  1924\n",
      "Bristol City                1036         440              1505  1924\n",
      "Brunswick County             887          65               982  1924\n",
      "Buchanan County              870        1080              1964  1924\n",
      "Buckingham County            623         213               851  1924\n",
      "Buena Vista City             235         149               392  1924\n",
      "Campbell County             1468         372              1982  1924\n",
      "Caroline County              840         223              1083  1924\n",
      "Carroll County              1257        1743              3014  1924\n",
      "Charles City County          141          82               231  1924\n",
      "Charlotte County            1006         154              1244  1924\n",
      "Charlottesville City         831         218              1157  1924\n",
      "Chesterfield County          967         282              1324  1924\n",
      "Clarke County                687          76               778  1924\n",
      "Clifton Forge City           447         225               961  1924\n",
      "Craig County                 512         300               831  1924\n",
      "Culpeper County              876         190              1108  1924\n",
      "Cumberland County            398          61               487  1924\n",
      "...                          ...         ...               ...   ...\n",
      "Richmond County             1347        2213              3661  2016\n",
      "Richmond City              81259       15581            103484  2016\n",
      "Roanoke County             17200       31408             51489  2016\n",
      "Roanoke City               22286       14789             39466  2016\n",
      "Rockbridge County           3508        6680             10795  2016\n",
      "Rockingham County           9366       25990             37487  2016\n",
      "Russell County              2330        9521             12246  2016\n",
      "Salem City                  4202        7226             12225  2016\n",
      "Scott County                1581        8247             10100  2016\n",
      "Shenandoah County           5273       14094             20513  2016\n",
      "Smyth County                2665        9750             12890  2016\n",
      "Southampton County          3595        5035              8878  2016\n",
      "Spotsylvania County        24207       34623             62562  2016\n",
      "Stafford County            27908       33868             65934  2016\n",
      "Staunton City               5333        5133             11255  2016\n",
      "Suffolk City               23280       18006             43240  2016\n",
      "Surry County                2272        1819              4228  2016\n",
      "Sussex County               2879        2055              5044  2016\n",
      "Tazewell County             2895       15168             18566  2016\n",
      "Virginia Beach City        91032       98224            203262  2016\n",
      "Warren County               5169       11773             17960  2016\n",
      "Washington County           5553       19320             25847  2016\n",
      "Waynesboro City             3764        4801              9204  2016\n",
      "Westmoreland County         3836        4448              8574  2016\n",
      "Williamsburg City           5206        1925              7626  2016\n",
      "Winchester City             5164        4790             10667  2016\n",
      "Wise County                 2701       12086             15163  2016\n",
      "Wythe County                2770       10046             13343  2016\n",
      "York County                12999       18837             34118  2016\n",
      "TOTALS                   1981473     1769443           3984631  2016\n",
      "\n",
      "[3208 rows x 4 columns]\n"
     ]
    }
   ],
   "source": [
    "print(frame)"
   ]
  },
  {
   "cell_type": "code",
   "execution_count": null,
   "metadata": {
    "collapsed": true
   },
   "outputs": [],
   "source": [
    "header = pd.read_csv(f, nrows = 1).dropna(axis = 1)\n",
    "d = header.iloc[0].to_dict()\n",
    "\n",
    "df = pd.read_csv(\"president_general_2004.csv\", index_col = 0, thousands = \",\", skiprows = [1])\n",
    "\n",
    "df.rename(inplace = True, columns = d) # rename to democrat/republican\n",
    "df.dropna(inplace = True, axis = 1)    # drop empty columns\n",
    "df[\"Year\"] = f[-8:-4:1]"
   ]
  },
  {
   "cell_type": "code",
   "execution_count": 50,
   "metadata": {},
   "outputs": [
    {
     "name": "stdout",
     "output_type": "stream",
     "text": [
      "president_general_1928.csv\n",
      "1928\n"
     ]
    }
   ],
   "source": [
    "print(allFiles[1])\n",
    "print(allFiles[1][-8:-4:1])"
   ]
  },
  {
   "cell_type": "code",
   "execution_count": 34,
   "metadata": {
    "collapsed": true
   },
   "outputs": [],
   "source": [
    "header = pd.read_csv(\"president_general_2004.csv\", nrows = 1).dropna(axis = 1)\n",
    "d = header.iloc[0].to_dict()\n",
    "\n",
    "df = pd.read_csv(\"president_general_2004.csv\", index_col = 0, thousands = \",\", skiprows = [1])\n",
    "\n",
    "df.rename(inplace = True, columns = d) # rename to democrat/republican\n",
    "df.dropna(inplace = True, axis = 1)    # drop empty columns\n",
    "df[\"Year\"] = 2004"
   ]
  },
  {
   "cell_type": "code",
   "execution_count": 32,
   "metadata": {},
   "outputs": [
    {
     "name": "stdout",
     "output_type": "stream",
     "text": [
      "{'Bush/ Cheney': 'Republican', 'Kerry/ Edwards': 'Democratic', 'Badnarik/ Campagna': 'Libertarian', 'Peroutka/ Baldwin': 'Constitution'}\n"
     ]
    }
   ],
   "source": [
    "print(d)"
   ]
  },
  {
   "cell_type": "code",
   "execution_count": 35,
   "metadata": {},
   "outputs": [
    {
     "name": "stdout",
     "output_type": "stream",
     "text": [
      "                       Republican  Democratic  Libertarian  Constitution  \\\n",
      "County/City                                                                \n",
      "Accomack County              7726        5518           57            32   \n",
      "Albemarle County            21189       22088          271            48   \n",
      "Alexandria City             19844       41116          270            85   \n",
      "Alleghany County             3962        3203           15            12   \n",
      "Amelia County                3499        1862           12            23   \n",
      "Amherst County               7758        4866           32            30   \n",
      "Appomattox County            4366        2191           12            85   \n",
      "Arlington County            29635       63987          526           148   \n",
      "Augusta County              22100        7019           87           473   \n",
      "Bath County                  1432         828            6             9   \n",
      "Bedford County              21925        9102          102           266   \n",
      "Bedford City                 1472        1042            7            21   \n",
      "Bland County                 1962         846           15            42   \n",
      "Botetourt County            10865        4801           67            39   \n",
      "Bristol City                 4275        2400           16            20   \n",
      "Brunswick County             2852        4062            5             6   \n",
      "Buchanan County              4507        5275           10            29   \n",
      "Buckingham County            3185        2789           21            29   \n",
      "Buena Vista City             1417         936            5            31   \n",
      "Campbell County             15891        6862           51           185   \n",
      "Caroline County              4999        4878           24            28   \n",
      "Carroll County               8173        3888           30            37   \n",
      "Charles City County          1254        2155           14            15   \n",
      "Charlotte County             3166        2223           15            17   \n",
      "Charlottesville City         4172       11088           86            25   \n",
      "Chesapeake City             52283       38744          250           147   \n",
      "Chesterfield County         83745       49346          334           211   \n",
      "Clarke County                3741        2699           37            25   \n",
      "Colonial Heights City        6129        2061           19            13   \n",
      "Covington City               1104        1179            5             8   \n",
      "...                           ...         ...          ...           ...   \n",
      "Richmond County              2082        1243           11            25   \n",
      "Richmond City               21637       52167          331           114   \n",
      "Roanoke County              30596       16082          132            96   \n",
      "Roanoke City                16661       18862          220           191   \n",
      "Rockbridge County            5412        3627           41            89   \n",
      "Rockingham County           21737        7273           80            75   \n",
      "Russell County               6077        5167           25           154   \n",
      "Salem City                   7115        4254           42            60   \n",
      "Scott County                 6479        3324           32           132   \n",
      "Shenandoah County           11820        5186           62            40   \n",
      "Smyth County                 7906        4143           43           223   \n",
      "Southampton County           4018        3431           17            19   \n",
      "Spotsylvania County         28527       16623          120            83   \n",
      "Stafford County             28500       17208          113            81   \n",
      "Staunton City                5805        3756           33            15   \n",
      "Suffolk City                16763       15233          100            65   \n",
      "Surry County                 1543        1954           13            12   \n",
      "Sussex County                1890        2420           14            20   \n",
      "Tazewell County             10039        7184           27           222   \n",
      "Virginia Beach City        103752       70666          656           274   \n",
      "Warren County                8600        5241           52           169   \n",
      "Washington County           14749        7339           71           342   \n",
      "Waynesboro City              5092        2792           38            23   \n",
      "Westmoreland County          3433        3370           21            14   \n",
      "Williamsburg City            2064        2216           21             6   \n",
      "Winchester City              5283        3967           40            29   \n",
      "Wise County                  8330        5802           30           145   \n",
      "Wythe County                 7911        3581           15            30   \n",
      "York County                 19396       10276          124            38   \n",
      "TOTALS                    1716959     1454742        11032         10161   \n",
      "\n",
      "                       All Others  Total Votes Cast  Year  \n",
      "County/City                                                \n",
      "Accomack County                23             13356  2004  \n",
      "Albemarle County              130             43726  2004  \n",
      "Alexandria City               200             61515  2004  \n",
      "Alleghany County                3              7195  2004  \n",
      "Amelia County                   1              5397  2004  \n",
      "Amherst County                  9             12695  2004  \n",
      "Appomattox County               1              6655  2004  \n",
      "Arlington County              354             94650  2004  \n",
      "Augusta County                 25             29704  2004  \n",
      "Bath County                     7              2282  2004  \n",
      "Bedford County                  9             31404  2004  \n",
      "Bedford City                    0              2542  2004  \n",
      "Bland County                    0              2865  2004  \n",
      "Botetourt County               25             15797  2004  \n",
      "Bristol City                   13              6724  2004  \n",
      "Brunswick County                1              6926  2004  \n",
      "Buchanan County                 8              9829  2004  \n",
      "Buckingham County               3              6027  2004  \n",
      "Buena Vista City                0              2389  2004  \n",
      "Campbell County                 8             22997  2004  \n",
      "Caroline County                25              9954  2004  \n",
      "Carroll County                  0             12128  2004  \n",
      "Charles City County             1              3439  2004  \n",
      "Charlotte County               17              5438  2004  \n",
      "Charlottesville City           79             15450  2004  \n",
      "Chesapeake City               117             91541  2004  \n",
      "Chesterfield County           178            133814  2004  \n",
      "Clarke County                   3              6505  2004  \n",
      "Colonial Heights City           9              8231  2004  \n",
      "Covington City                  5              2301  2004  \n",
      "...                           ...               ...   ...  \n",
      "Richmond County                 0              3361  2004  \n",
      "Richmond City                  76             74325  2004  \n",
      "Roanoke County                 67             46973  2004  \n",
      "Roanoke City                   66             36000  2004  \n",
      "Rockbridge County              12              9181  2004  \n",
      "Rockingham County              51             29216  2004  \n",
      "Russell County                  0             11423  2004  \n",
      "Salem City                     13             11484  2004  \n",
      "Scott County                    0              9967  2004  \n",
      "Shenandoah County              38             17146  2004  \n",
      "Smyth County                    4             12319  2004  \n",
      "Southampton County              7              7492  2004  \n",
      "Spotsylvania County            92             45445  2004  \n",
      "Stafford County                84             45986  2004  \n",
      "Staunton City                  20              9629  2004  \n",
      "Suffolk City                   28             32189  2004  \n",
      "Surry County                    0              3522  2004  \n",
      "Sussex County                   1              4345  2004  \n",
      "Tazewell County                 8             17480  2004  \n",
      "Virginia Beach City           339            175687  2004  \n",
      "Warren County                   6             14068  2004  \n",
      "Washington County              13             22514  2004  \n",
      "Waynesboro City                18              7963  2004  \n",
      "Westmoreland County            10              6848  2004  \n",
      "Williamsburg City              13              4320  2004  \n",
      "Winchester City                24              9343  2004  \n",
      "Wise County                     5             14312  2004  \n",
      "Wythe County                   17             11554  2004  \n",
      "York County                    46             29880  2004  \n",
      "TOTALS                       5473           3198367  2004  \n",
      "\n",
      "[135 rows x 7 columns]\n"
     ]
    }
   ],
   "source": [
    "print(df)"
   ]
  },
  {
   "cell_type": "code",
   "execution_count": null,
   "metadata": {
    "collapsed": true
   },
   "outputs": [],
   "source": []
  }
 ],
 "metadata": {
  "kernelspec": {
   "display_name": "Python 3",
   "language": "python",
   "name": "python3"
  },
  "language_info": {
   "codemirror_mode": {
    "name": "ipython",
    "version": 3
   },
   "file_extension": ".py",
   "mimetype": "text/x-python",
   "name": "python",
   "nbconvert_exporter": "python",
   "pygments_lexer": "ipython3",
   "version": "3.6.1"
  }
 },
 "nbformat": 4,
 "nbformat_minor": 2
}
