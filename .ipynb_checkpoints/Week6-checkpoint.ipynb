{
 "cells": [
  {
   "cell_type": "code",
   "execution_count": null,
   "metadata": {
    "collapsed": true
   },
   "outputs": [],
   "source": [
    "#PDF notes in 'resources': C:\\Users\\mikaa\\Desktop\\lectures\\06-web\n",
    "\n",
    "import requests\n",
    "resp = requests.get(\"full web address\")\n",
    "resp.content\n",
    "# or resp.text for a 'prettier' version\n",
    "print(resp.text)# shows the atom/code file that made this page - cool!\n",
    "resp.status_code #if shows '200'= good\n",
    "\n",
    "#Beautiful Soup can parse website content and allows us to search for specific things in it\n",
    "from bs4 import BeautifulSoup as bs\n",
    "#an example:\n",
    "soup = bs(resp.content, \"html.parser\")\n",
    "\n",
    "find_all = (\"tr\")\n",
    "\n",
    "[x.contents for x in rows] # get the contents of each of the rows\n",
    "[x.contents[0] for x in rows]\n",
    "[x.contents[2] for x in rows] # We use 2 instead of 1 b/c element '1' is actually a space in this dataset\n",
    "[x.contents[2].contents[0] for x in rows if \"True\" == x.contents[2].contents[0]]\n",
    "#[x.contents[0].contents[0] for x in rows if \"True\" == x.contents[2].contents[0]]\n",
    "#The dot notation is referring to nested lists. So, x.contents[2]\n",
    "#is the 2nd element in that list. x.contents[2].contents is the CONTENTS\n",
    "#of that 2nd element in the primary list (it's a list w/in\n",
    "#a list)\n",
    "\n",
    "import pandas as pd\n",
    "l = pd.read_html(\"web address\")\n",
    "#this will print out the table. Pandas will only do the table.\n",
    "#To get the other info, you need to do Beautiful Soup.\n",
    "\n",
    "from selenium import webdriver\n",
    "driver = webdriver.PHantomJS()\n",
    "driver.get(\"html code\")\n",
    "\n",
    "\n",
    "#Getting API data into Python\n",
    "\n",
    "j = request.get(\"https://api.census.gov/data/2014/acs5/profile?get=DP02_0037PE,NAME&for=state:*\").json()\n",
    "df=pd.DataFrame(j[1:], columns = j[0])\n",
    "print(df)\n",
    "\n",
    "#This will give you data in a .json file, to be used in python\n",
    "requests.get(\"address\").json \n"
   ]
  }
 ],
 "metadata": {
  "kernelspec": {
   "display_name": "Python 3",
   "language": "python",
   "name": "python3"
  },
  "language_info": {
   "codemirror_mode": {
    "name": "ipython",
    "version": 3
   },
   "file_extension": ".py",
   "mimetype": "text/x-python",
   "name": "python",
   "nbconvert_exporter": "python",
   "pygments_lexer": "ipython3",
   "version": "3.6.1"
  }
 },
 "nbformat": 4,
 "nbformat_minor": 2
}
