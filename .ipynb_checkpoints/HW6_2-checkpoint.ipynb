{
 "cells": [
  {
   "cell_type": "code",
   "execution_count": 1,
   "metadata": {
    "collapsed": true
   },
   "outputs": [],
   "source": [
    "import requests\n",
    "from bs4 import BeautifulSoup as bs\n",
    "\n",
    "import argparse\n",
    "import sys\n",
    "\n",
    "import json\n",
    "import pandas as pd"
   ]
  },
  {
   "cell_type": "code",
   "execution_count": 2,
   "metadata": {
    "collapsed": true
   },
   "outputs": [],
   "source": [
    "url = \"http://historical.elections.virginia.gov/elections/search/year_from:1924/year_to:2016/office_id:1/stage:General\"\n",
    "resp = requests.get(url)\n",
    "html = resp.content\n",
    "soup = bs(html, \"html.parser\")\n"
   ]
  },
  {
   "cell_type": "code",
   "execution_count": 3,
   "metadata": {
    "collapsed": true
   },
   "outputs": [],
   "source": [
    "tags = soup.find_all('tr','election_item')\n",
    "\n",
    "years = []\n",
    "years_id = []\n",
    "ELECTION_ID=[]"
   ]
  },
  {
   "cell_type": "code",
   "execution_count": 4,
   "metadata": {
    "collapsed": true
   },
   "outputs": [],
   "source": [
    "for t in tags:\n",
    "    year = int(t.td.text)\n",
    "    years.append(year)\n",
    "    year_id = int(t['id'][-5:])\n",
    "    years_id.append(year_id)\n",
    "elections = [years, years_id]\n",
    "\n",
    "ELECTION_ID= pd.DataFrame({\"years\":years, \"years_id\":years_id})\n",
    "#ELECTION_ID.to_csv(sep=' ', index=False, header=False)\n",
    "#ELECTION_ID"
   ]
  },
  {
   "cell_type": "code",
   "execution_count": 43,
   "metadata": {
    "collapsed": true
   },
   "outputs": [],
   "source": [
    "elections = [years, years_id]\n",
    "with open('ELECTION_ID_list.txt', 'w') as f:\n",
    "    f.writelines(\"%s\\n\" % line for line in elections)"
   ]
  },
  {
   "cell_type": "code",
   "execution_count": 5,
   "metadata": {},
   "outputs": [
    {
     "ename": "TypeError",
     "evalue": "'header' is an invalid keyword argument for this function",
     "output_type": "error",
     "traceback": [
      "\u001b[1;31m---------------------------------------------------------------------------\u001b[0m",
      "\u001b[1;31mTypeError\u001b[0m                                 Traceback (most recent call last)",
      "\u001b[1;32m<ipython-input-5-07138831bea6>\u001b[0m in \u001b[0;36m<module>\u001b[1;34m()\u001b[0m\n\u001b[1;32m----> 1\u001b[1;33m \u001b[0mprint\u001b[0m\u001b[1;33m(\u001b[0m\u001b[0mELECTION_ID\u001b[0m\u001b[1;33m,\u001b[0m \u001b[0mheader\u001b[0m\u001b[1;33m=\u001b[0m\u001b[1;32mFalse\u001b[0m\u001b[1;33m,\u001b[0m \u001b[0mindex\u001b[0m\u001b[1;33m=\u001b[0m\u001b[1;32mFalse\u001b[0m\u001b[1;33m)\u001b[0m\u001b[1;33m\u001b[0m\u001b[0m\n\u001b[0m",
      "\u001b[1;31mTypeError\u001b[0m: 'header' is an invalid keyword argument for this function"
     ]
    }
   ],
   "source": []
  },
  {
   "cell_type": "code",
   "execution_count": null,
   "metadata": {
    "collapsed": true
   },
   "outputs": [],
   "source": []
  },
  {
   "cell_type": "code",
   "execution_count": 24,
   "metadata": {
    "collapsed": true
   },
   "outputs": [],
   "source": [
    "ELECTION_ID.to_csv('ELECTION_ID.txt', sep='\\t', index=False, header=False)"
   ]
  },
  {
   "cell_type": "code",
   "execution_count": 9,
   "metadata": {},
   "outputs": [],
   "source": [
    "f = open('ELECTION_ID.txt','r')\n",
    "electionIDs = f.read()"
   ]
  },
  {
   "cell_type": "code",
   "execution_count": 11,
   "metadata": {},
   "outputs": [
    {
     "data": {
      "text/plain": [
       "str"
      ]
     },
     "execution_count": 11,
     "metadata": {},
     "output_type": "execute_result"
    }
   ],
   "source": [
    "type(electionIDs)"
   ]
  },
  {
   "cell_type": "code",
   "execution_count": 32,
   "metadata": {},
   "outputs": [
    {
     "name": "stdout",
     "output_type": "stream",
     "text": [
      "['80871\\n', '44930\\n', '39050\\n', '41055\\n', '39517\\n', '34787\\n', '47275\\n', '48618\\n', '47846\\n', '48204\\n', '48411\\n', '48591\\n', '78816\\n', '78861\\n', '79121\\n', '79293\\n', '79455\\n', '79419\\n', '79390\\n', '79369\\n', '79343\\n', '79326\\n', '79248\\n', '79250\\n']\n"
     ]
    }
   ],
   "source": [
    "result=[]\n",
    "f = open('ELECTION_ID.txt', 'r')\n",
    "electionIDs = f.readlines()\n",
    "for x in electionIDs:\n",
    "    result.append(x.split('\\t')[1])\n",
    "f.close\n",
    "print(result)\n",
    "        "
   ]
  },
  {
   "cell_type": "code",
   "execution_count": 38,
   "metadata": {},
   "outputs": [],
   "source": [
    "for line in result:\n",
    "    line=line.replace(\"\\n\",\"\").strip().split(\",\")\n"
   ]
  },
  {
   "cell_type": "code",
   "execution_count": 40,
   "metadata": {},
   "outputs": [
    {
     "name": "stdout",
     "output_type": "stream",
     "text": [
      "[2016, 2012, 2008, 2004, 2000, 1996, 1992, 1988, 1984, 1980, 1976, 1972, 1968, 1964, 1960, 1956, 1952, 1948, 1944, 1940, 1936, 1932, 1928, 1924]\n"
     ]
    }
   ],
   "source": [
    "years=[]\n",
    "years_id=[]\n",
    "for t in tags:\n",
    "    year = int(t.td.text)\n",
    "    years.append(year)\n",
    "    year_id = int(t['id'][-5:])\n",
    "    years_id.append(year_id)\n",
    "elections = [years, years_id]\n",
    "\n"
   ]
  },
  {
   "cell_type": "raw",
   "metadata": {},
   "source": [
    "print(years[1])"
   ]
  },
  {
   "cell_type": "code",
   "execution_count": null,
   "metadata": {
    "collapsed": true
   },
   "outputs": [],
   "source": []
  },
  {
   "cell_type": "code",
   "execution_count": 15,
   "metadata": {},
   "outputs": [
    {
     "name": "stdout",
     "output_type": "stream",
     "text": [
      "2016\t80871\n",
      "2012\t44930\n",
      "2008\t39050\n",
      "2004\t41055\n",
      "2000\t39517\n",
      "1996\t34787\n",
      "1992\t47275\n",
      "1988\t48618\n",
      "1984\t47846\n",
      "1980\t48204\n",
      "1976\t48411\n",
      "1972\t48591\n",
      "1968\t78816\n",
      "1964\t78861\n",
      "1960\t79121\n",
      "1956\t79293\n",
      "1952\t79455\n",
      "1948\t79419\n",
      "1944\t79390\n",
      "1940\t79369\n",
      "1936\t79343\n",
      "1932\t79326\n",
      "1928\t79248\n",
      "1924\t79250\n",
      "\n"
     ]
    }
   ],
   "source": [
    "print(electionIDs)"
   ]
  },
  {
   "cell_type": "code",
   "execution_count": null,
   "metadata": {
    "collapsed": true
   },
   "outputs": [],
   "source": [
    "\n"
   ]
  },
  {
   "cell_type": "code",
   "execution_count": null,
   "metadata": {
    "collapsed": true
   },
   "outputs": [],
   "source": []
  },
  {
   "cell_type": "code",
   "execution_count": 46,
   "metadata": {
    "collapsed": true
   },
   "outputs": [],
   "source": [
    "base= 'http://historical.elections.virginia.gov/elections/download/{}/precincts_include:0/'\n",
    "lastyear_url = base.format('80871')\n",
    "lastyear_text = requests.get(lastyear_url).text\n",
    "with open('2016.csv', 'w') as output:\n",
    "    output.write(requests.get(lastyear_url).text)"
   ]
  },
  {
   "cell_type": "code",
   "execution_count": null,
   "metadata": {
    "collapsed": true
   },
   "outputs": [],
   "source": []
  }
 ],
 "metadata": {
  "kernelspec": {
   "display_name": "Python 3",
   "language": "python",
   "name": "python3"
  },
  "language_info": {
   "codemirror_mode": {
    "name": "ipython",
    "version": 3
   },
   "file_extension": ".py",
   "mimetype": "text/x-python",
   "name": "python",
   "nbconvert_exporter": "python",
   "pygments_lexer": "ipython3",
   "version": "3.6.1"
  }
 },
 "nbformat": 4,
 "nbformat_minor": 2
}
